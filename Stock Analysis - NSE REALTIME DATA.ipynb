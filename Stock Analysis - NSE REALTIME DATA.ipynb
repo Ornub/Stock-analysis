{
 "cells": [
  {
   "cell_type": "code",
   "execution_count": 1,
   "metadata": {},
   "outputs": [],
   "source": [
    "import pandas as pd\n",
    "from pandas import Series,DataFrame\n",
    "import numpy as np\n",
    "\n",
    "# For Visualization\n",
    "import matplotlib.pyplot as plt\n",
    "import seaborn as sns\n",
    "sns.set_style('whitegrid')\n",
    "%matplotlib inline\n"
   ]
  },
  {
   "cell_type": "code",
   "execution_count": 2,
   "metadata": {},
   "outputs": [],
   "source": [
    "\n",
    "# For time stamps\n",
    "from datetime import datetime\n",
    "\n"
   ]
  },
  {
   "cell_type": "code",
   "execution_count": 3,
   "metadata": {},
   "outputs": [],
   "source": [
    "# For division\n",
    "from __future__ import division"
   ]
  },
  {
   "cell_type": "code",
   "execution_count": 4,
   "metadata": {},
   "outputs": [],
   "source": [
    "end = datetime.now()\n",
    "start = datetime(end.year -1 , end.month ,end.day)"
   ]
  },
  {
   "cell_type": "code",
   "execution_count": 8,
   "metadata": {},
   "outputs": [
    {
     "ename": "ModuleNotFoundError",
     "evalue": "No module named 'nsepy'",
     "output_type": "error",
     "traceback": [
      "\u001b[1;31m---------------------------------------------------------------------------\u001b[0m",
      "\u001b[1;31mModuleNotFoundError\u001b[0m                       Traceback (most recent call last)",
      "\u001b[1;32m<ipython-input-8-9adab88b72e1>\u001b[0m in \u001b[0;36m<module>\u001b[1;34m\u001b[0m\n\u001b[1;32m----> 1\u001b[1;33m \u001b[1;32mfrom\u001b[0m \u001b[0mnsepy\u001b[0m \u001b[1;32mimport\u001b[0m \u001b[0mget_history\u001b[0m\u001b[1;33m\u001b[0m\u001b[1;33m\u001b[0m\u001b[0m\n\u001b[0m",
      "\u001b[1;31mModuleNotFoundError\u001b[0m: No module named 'nsepy'"
     ]
    }
   ],
   "source": [
    "from nsepy import get_history\n"
   ]
  },
  {
   "cell_type": "code",
   "execution_count": null,
   "metadata": {},
   "outputs": [],
   "source": [
    "sbi = get_history(symbol=\"SBIN\", start = start , end = end )\n",
    "infosys = get_history(symbol=\"INFY\", start = start , end = end )\n",
    "pnb = get_history(symbol=\"PNB\", start = start , end = end )\n",
    "itc = get_history(symbol=\"ITC\", start = start , end = end )\n"
   ]
  },
  {
   "cell_type": "code",
   "execution_count": null,
   "metadata": {},
   "outputs": [],
   "source": [
    "sbi.info()"
   ]
  },
  {
   "cell_type": "code",
   "execution_count": null,
   "metadata": {},
   "outputs": [],
   "source": [
    "sbi.head()"
   ]
  },
  {
   "cell_type": "code",
   "execution_count": null,
   "metadata": {},
   "outputs": [],
   "source": [
    "sbi.describe()"
   ]
  },
  {
   "cell_type": "code",
   "execution_count": null,
   "metadata": {},
   "outputs": [],
   "source": [
    "sbi['Close'].plot(legend= True , figsize =(10,4),color='purple')"
   ]
  },
  {
   "cell_type": "code",
   "execution_count": null,
   "metadata": {},
   "outputs": [],
   "source": [
    "sbi['Close'].plot(legend= True , figsize =(10,4),color='purple',kind='kde')"
   ]
  },
  {
   "cell_type": "code",
   "execution_count": null,
   "metadata": {},
   "outputs": [],
   "source": [
    "sbi['Volume'].plot(color='green')"
   ]
  },
  {
   "cell_type": "code",
   "execution_count": null,
   "metadata": {},
   "outputs": [],
   "source": [
    "# Let's go ahead and plot out several moving averages\n",
    "ma_day = [10,20,50]\n",
    "\n",
    "for ma in ma_day:\n",
    "    column_name = \"MA for %s days\" %(str(ma))\n",
    "    sbi[column_name]=pd.rolling_mean(sbi['Prev Close'],ma)  # pandas has a built-in rolling mean calculator"
   ]
  },
  {
   "cell_type": "code",
   "execution_count": null,
   "metadata": {},
   "outputs": [],
   "source": [
    "sbi[['Prev Close','MA for 10 days','MA for 20 days','MA for 50 days']].plot(subplots=False,figsize=(10,4))"
   ]
  },
  {
   "cell_type": "code",
   "execution_count": null,
   "metadata": {},
   "outputs": [],
   "source": [
    "sbi[['Prev Close','MA for 10 days','MA for 20 days','MA for 50 days']].plot(subplots=True,figsize=(10,4))"
   ]
  },
  {
   "cell_type": "code",
   "execution_count": null,
   "metadata": {},
   "outputs": [],
   "source": [
    "# We'll use pct_change to find the percent change for each day\n",
    "sbi['Daily Return'] = sbi['Prev Close'].pct_change()\n",
    "\n",
    "# Then we'll plot the daily return percentage\n",
    "sbi['Daily Return'].plot(figsize=(25,6),legend=True,linestyle='--',marker='o')"
   ]
  },
  {
   "cell_type": "code",
   "execution_count": null,
   "metadata": {},
   "outputs": [],
   "source": [
    "#overall look at the average daily return using a histogr\n",
    "sbi['Daily Return'].hist(color=\"purple\")"
   ]
  },
  {
   "cell_type": "code",
   "execution_count": null,
   "metadata": {},
   "outputs": [],
   "source": [
    "# Note the use of dropna() here, otherwise the NaN values can't be read by seaborn\n",
    "# use seaborn to create both a histogram and kde plot on the same figure.\n",
    "sns.distplot(sbi['Daily Return'].dropna(),bins=10,color='red')\n"
   ]
  },
  {
   "cell_type": "code",
   "execution_count": null,
   "metadata": {},
   "outputs": [],
   "source": [
    "closing_df=DataFrame()"
   ]
  },
  {
   "cell_type": "code",
   "execution_count": null,
   "metadata": {},
   "outputs": [],
   "source": [
    "closing_df['sbi']=sbi['Close']\n",
    "closing_df['pnb']=pnb['Close']\n",
    "closing_df['infosys']=infosys['Close']\n",
    "closing_df['itc']=itc['Close']"
   ]
  },
  {
   "cell_type": "code",
   "execution_count": null,
   "metadata": {},
   "outputs": [],
   "source": [
    "closing_df.head()"
   ]
  },
  {
   "cell_type": "code",
   "execution_count": null,
   "metadata": {},
   "outputs": [],
   "source": [
    "\n",
    "#  del closing_df['sbi']    --->to delete a column"
   ]
  },
  {
   "cell_type": "code",
   "execution_count": null,
   "metadata": {},
   "outputs": [],
   "source": [
    "bank_rets = closing_df.pct_change()"
   ]
  },
  {
   "cell_type": "code",
   "execution_count": null,
   "metadata": {},
   "outputs": [],
   "source": [
    "bank_rets.plot(figsize=(25,6),legend=True,marker='o')"
   ]
  },
  {
   "cell_type": "code",
   "execution_count": null,
   "metadata": {},
   "outputs": [],
   "source": [
    "# We'll use joinplot to compare the daily returns \n",
    "sns.jointplot('sbi','sbi',bank_rets,kind='scatter')"
   ]
  },
  {
   "cell_type": "code",
   "execution_count": null,
   "metadata": {},
   "outputs": [],
   "source": [
    "sns.jointplot('sbi','pnb',bank_rets,kind='reg' )"
   ]
  },
  {
   "cell_type": "code",
   "execution_count": null,
   "metadata": {},
   "outputs": [],
   "source": []
  },
  {
   "cell_type": "code",
   "execution_count": null,
   "metadata": {},
   "outputs": [],
   "source": [
    "sns.jointplot('sbi','pnb',bank_rets,kind='resid')"
   ]
  },
  {
   "cell_type": "code",
   "execution_count": null,
   "metadata": {},
   "outputs": [],
   "source": [
    "sns.jointplot('sbi','pnb',bank_rets,kind='kde')"
   ]
  },
  {
   "cell_type": "code",
   "execution_count": null,
   "metadata": {},
   "outputs": [],
   "source": [
    "sns.jointplot('sbi','pnb',bank_rets,kind='hex')"
   ]
  },
  {
   "cell_type": "code",
   "execution_count": null,
   "metadata": {},
   "outputs": [],
   "source": [
    "# We can simply call pairplot on our DataFrame for an automatic visual analysis of all the compasns.pairplot(tech_rets.dropna())\n",
    "sns.pairplot(bank_rets.dropna())"
   ]
  },
  {
   "cell_type": "code",
   "execution_count": null,
   "metadata": {},
   "outputs": [],
   "source": [
    "# Set up our figure by naming it returns_fig, call PairPLot on the DataFrame\n",
    "returns_fig = sns.PairGrid(bank_rets.dropna())\n",
    "\n",
    "# Using map_upper we can specify what the upper triangle will look like.\n",
    "returns_fig.map_upper(plt.scatter,color='purple')\n",
    "\n",
    "# We can also define the lower triangle in the figure, inclufing the plot type (kde) or the color map (BluePurple)\n",
    "returns_fig.map_lower(sns.kdeplot,cmap='cool_d')\n",
    "\n",
    "# Finally we'll define the diagonal as a series of histogram plots of the daily return\n",
    "returns_fig.map_diag(plt.hist,bins=30)\n"
   ]
  },
  {
   "cell_type": "code",
   "execution_count": null,
   "metadata": {},
   "outputs": [],
   "source": [
    "# Set up our figure by naming it returns_fig, call PairPLot on the DataFrame\n",
    "returns_fig = sns.PairGrid(closing_df)\n",
    "\n",
    "# Using map_upper we can specify what the upper triangle will look like.\n",
    "returns_fig.map_upper(plt.scatter,color='purple')\n",
    "\n",
    "# We can also define the lower triangle in the figure, inclufing the plot type (kde) or the color map (BluePurple)\n",
    "returns_fig.map_lower(sns.kdeplot,cmap='cool_d')\n",
    "\n",
    "# Finally we'll define the diagonal as a series of histogram plots of the closing price\n",
    "returns_fig.map_diag(plt.hist,bins=30)"
   ]
  },
  {
   "cell_type": "code",
   "execution_count": null,
   "metadata": {},
   "outputs": [],
   "source": [
    "from IPython.display import SVG\n",
    "SVG(url='http://upload.wikimedia.org/wikipedia/commons/d/d4/Correlation_examples2.svg')"
   ]
  },
  {
   "cell_type": "code",
   "execution_count": null,
   "metadata": {},
   "outputs": [],
   "source": [
    "# Let's start by defining a new DataFrame as a clenaed version of the oriignal tech_rets DataFrame\n",
    "rets = bank_rets.dropna()\n",
    "\n",
    "area = np.pi*20 #np.pi funcs gives the value of pie , ie = 3.14159\n",
    "\n",
    "plt.scatter(rets.mean(), rets.std(),alpha = 0.9,s =5*area) #alpha changes the brightness of the dots in the scatter plot\n",
    "                                                            # area  is the radius of the dots d with the same centre\n",
    "# Set the x and y limits of the plot (optional, remove this if you don't see anything in your plot)\n",
    "plt.ylim([0.01,0.05])\n",
    "plt.xlim([-0.005,0.005])\n",
    "\n",
    "#Set the plot axis titles\n",
    "plt.xlabel('Expected returns')\n",
    "plt.ylabel('Risk')\n",
    "\n",
    "# Label the scatter plots, for more info on how this is done, chekc out the link below\n",
    "# http://matplotlib.org/users/annotations_guide.html\n",
    "for label, x, y in zip(rets.columns, rets.mean(), rets.std()):\n",
    "    plt.annotate(\n",
    "        label, \n",
    "        xy = (x, y), xytext = (50, 50),\n",
    "        textcoords = 'offset points', ha = 'left', va = 'top',\n",
    "        arrowprops = dict(arrowstyle = '->', connectionstyle = 'arc3,rad=-0.3',))\n"
   ]
  },
  {
   "cell_type": "code",
   "execution_count": null,
   "metadata": {},
   "outputs": [],
   "source": [
    "# Set up our time horizon\n",
    "days = 365\n",
    "\n",
    "# Now our delta\n",
    "dt = 1/days\n",
    "\n",
    "# Now let's grab our mu (drift) from the expected return data we got for sbi\n",
    "mu = rets.mean()['sbi']\n",
    "\n",
    "# Now let's grab the volatility of the stock from the std() of the average return\n",
    "sigma = rets.std()['sbi']"
   ]
  },
  {
   "cell_type": "code",
   "execution_count": null,
   "metadata": {},
   "outputs": [],
   "source": [
    "def stock_monte_carlo(start_price,days,mu,sigma):\n",
    "    ''' This function takes in starting stock price, days of simulation,mu,sigma, and returns simulated price array'''\n",
    "    \n",
    "    # Define a price array\n",
    "    price = np.zeros(days)\n",
    "    price[0] = start_price\n",
    "    # Shock and Drift\n",
    "    shock = np.zeros(days)\n",
    "    drift = np.zeros(days)\n",
    "    \n",
    "    # Run price array for number of days\n",
    "    for x in xrange(1,days):\n",
    "        \n",
    "        # Calculate Schock\n",
    "        shock[x] = np.random.normal(loc=mu * dt, scale=sigma * np.sqrt(dt))\n",
    "        # Calculate Drift\n",
    "        drift[x] = mu * dt\n",
    "        # Calculate Price\n",
    "        price[x] = price[x-1] + (price[x-1] * (drift[x] + shock[x]))\n",
    "        \n",
    "    return price"
   ]
  },
  {
   "cell_type": "code",
   "execution_count": null,
   "metadata": {},
   "outputs": [],
   "source": [
    "# Get start price from sbi.head()\n",
    "start_price = 308\n",
    "\n",
    "for run in xrange(100):\n",
    "    plt.plot(stock_monte_carlo(start_price,days,mu,sigma))\n",
    "plt.xlabel(\"Days\")\n",
    "plt.ylabel(\"Price\")  \n",
    "plt.title('Monte Carlo Analysis for SBI')"
   ]
  },
  {
   "cell_type": "code",
   "execution_count": null,
   "metadata": {},
   "outputs": [],
   "source": [
    "# Set a large numebr of runs\n",
    "runs = 10000\n",
    "\n",
    "# Create an empty matrix to hold the end price data\n",
    "simulations = np.zeros(runs)\n",
    "\n",
    "# Set the print options of numpy to only display 0-5 points from an array to suppress output\n",
    "np.set_printoptions(threshold=5)\n",
    "\n",
    "for run in xrange(runs):    \n",
    "    # Set the simulation data point as the last stock price for that run\n",
    "    simulations[run] = stock_monte_carlo(start_price,days,mu,sigma)[days-1];"
   ]
  },
  {
   "cell_type": "code",
   "execution_count": null,
   "metadata": {},
   "outputs": [],
   "source": [
    "# Now we'lll define q as the 1% empirical qunatile, this basically means that 99% of the values should fall between here\n",
    "q = np.percentile(simulations, 1)\n",
    "    \n",
    "# Now let's plot the distribution of the end prices\n",
    "plt.hist(simulations,bins=200)\n",
    "\n",
    "# Using plt.figtext to fill in some additional information onto the plot\n",
    "\n",
    "# Starting Price\n",
    "plt.figtext(0.6, 0.8, s=\"Start price: $%.2f\" %start_price)\n",
    "# Mean ending price\n",
    "plt.figtext(0.6, 0.7, \"Mean final price: $%.2f\" % simulations.mean())\n",
    "\n",
    "# Variance of the price (within 99% confidence interval)\n",
    "plt.figtext(0.6, 0.6, \"VaR(0.99): $%.2f\" % (start_price - q,))\n",
    "\n",
    "# Display 1% quantile\n",
    "plt.figtext(0.15, 0.6, \"q(0.99): $%.2f\" % q)\n",
    "\n",
    "# Plot a line at the 1% quantile result\n",
    "plt.axvline(x=q, linewidth=4, color='r')\n",
    "\n",
    "# Title\n",
    "plt.title(u\"Final price distribution for Sbi Stock after %s days\" % days, weight='bold');"
   ]
  },
  {
   "cell_type": "code",
   "execution_count": null,
   "metadata": {},
   "outputs": [],
   "source": [
    "for a in xrange(1,10,-2):\n",
    "    print a"
   ]
  },
  {
   "cell_type": "code",
   "execution_count": null,
   "metadata": {},
   "outputs": [],
   "source": [
    "for a in range(1,10,2):\n",
    "    print a"
   ]
  },
  {
   "cell_type": "code",
   "execution_count": null,
   "metadata": {},
   "outputs": [],
   "source": []
  }
 ],
 "metadata": {
  "kernelspec": {
   "display_name": "Python 3",
   "language": "python",
   "name": "python3"
  },
  "language_info": {
   "codemirror_mode": {
    "name": "ipython",
    "version": 3
   },
   "file_extension": ".py",
   "mimetype": "text/x-python",
   "name": "python",
   "nbconvert_exporter": "python",
   "pygments_lexer": "ipython3",
   "version": "3.7.1"
  }
 },
 "nbformat": 4,
 "nbformat_minor": 2
}
